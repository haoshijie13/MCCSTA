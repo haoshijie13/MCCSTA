{
 "cells": [
  {
   "cell_type": "code",
   "execution_count": 5,
   "id": "c61625e1-1fee-486d-90ba-7b717b669079",
   "metadata": {},
   "outputs": [],
   "source": [
    "# Import necessary libraries\n",
    "import pandas as pd\n",
    "import numpy as np\n",
    "# import nibabel as nb  # Commented out, not in use currently\n",
    "import matplotlib.pyplot as plt\n",
    "import k3d\n",
    "# import nrrd  # Commented out, not in use currently\n",
    "from k3d.colormaps import matplotlib_color_maps\n",
    "# import os  # Commented out, not in use currently\n"
   ]
  },
  {
   "cell_type": "code",
   "execution_count": 6,
   "id": "049de7b1-d0f2-4adc-9fd6-5aed438dfd8e",
   "metadata": {},
   "outputs": [],
   "source": [
    "def cm_RGB(x, i_min, i_max):\n",
    "    \"\"\"\n",
    "    Convert input values to RGB colors using the 'Spectral' colormap from matplotlib.\n",
    "    \n",
    "    Args:\n",
    "        x (list or array-like): Input values to be mapped to colors.\n",
    "        i_min (float): Minimum value for normalization.\n",
    "        i_max (float): Maximum value for normalization.\n",
    "    \n",
    "    Returns:\n",
    "        np.ndarray: RGB color values corresponding to the input values.\n",
    "    \"\"\"\n",
    "    # Clip the input values to the specified range and normalize them\n",
    "    normalized_x = (np.clip(x, i_min, i_max) - i_min) / (i_max - i_min)\n",
    "    return plt.cm.get_cmap('Spectral')(normalized_x)"
   ]
  },
  {
   "cell_type": "code",
   "execution_count": 8,
   "id": "53b4b2dc-e09c-405c-964a-77f9e8c1f5c1",
   "metadata": {},
   "outputs": [],
   "source": [
    "# Read metadata from seurat object\n",
    "meta_data = pd.read_csv('obj_metadata.csv')\n"
   ]
  },
  {
   "cell_type": "code",
   "execution_count": 9,
   "id": "af611353-50ce-4c76-9c3b-cf30da9e3ca0",
   "metadata": {},
   "outputs": [],
   "source": [
    "# Process the 'orig.ident' column: remove 'T' and convert to integer, then multiply by 2\n",
    "meta_data['z'] = meta_data['orig.ident'].str.replace('T', '').astype(int) * 2"
   ]
  },
  {
   "cell_type": "code",
   "execution_count": 10,
   "id": "32f429da-a5aa-4e2e-a250-d0385bd0a6ea",
   "metadata": {},
   "outputs": [
    {
     "name": "stderr",
     "output_type": "stream",
     "text": [
      "/tmp/ipykernel_2540516/2982309519.py:15: MatplotlibDeprecationWarning: The get_cmap function was deprecated in Matplotlib 3.7 and will be removed in 3.11. Use ``matplotlib.colormaps[name]`` or ``matplotlib.colormaps.get_cmap()`` or ``pyplot.get_cmap()`` instead.\n",
      "  return plt.cm.get_cmap('Spectral')(normalized_x)\n"
     ]
    }
   ],
   "source": [
    "# Map the 'PC_1' values to RGB colors and scale them to 0-255 range\n",
    "meta_data[['R', 'G', 'B', 'A']] = cm_RGB(meta_data['PC_1'].tolist(), meta_data['PC_1'].min(), meta_data['PC_1'].max()) * 255"
   ]
  },
  {
   "cell_type": "code",
   "execution_count": null,
   "id": "2e9f6d31-34a9-430e-af94-b0fff79388d9",
   "metadata": {},
   "outputs": [],
   "source": [
    "# Create a 3D point plot with gradient colors\n",
    "plt_points = k3d.points(\n",
    "    positions=np.array(meta_data[['x', 'y', 'z']]).astype('float32'),\n",
    "    point_size=1,\n",
    "    opacity=1,\n",
    "    color_map=matplotlib_color_maps.Spectral_r,\n",
    "    attribute=meta_data['PC_1'],\n",
    "    name='PC_1',\n",
    "    shader='flat'\n",
    ")\n",
    "\n",
    "# Initialize a k3d plot\n",
    "plot = k3d.plot()\n",
    "\n",
    "# Add the points to the plot\n",
    "plot += plt_points\n",
    "\n",
    "# Save the plot as an HTML file\n",
    "with open('fig/PC1_CP.html', 'w') as fp:\n",
    "    fp.write(plot.get_snapshot())"
   ]
  },
  {
   "cell_type": "code",
   "execution_count": null,
   "id": "df8caceb-51e9-4923-a3dc-fd7e88385071",
   "metadata": {},
   "outputs": [],
   "source": []
  }
 ],
 "metadata": {
  "kernelspec": {
   "display_name": "Python 3 (ipykernel)",
   "language": "python",
   "name": "python3"
  },
  "language_info": {
   "codemirror_mode": {
    "name": "ipython",
    "version": 3
   },
   "file_extension": ".py",
   "mimetype": "text/x-python",
   "name": "python",
   "nbconvert_exporter": "python",
   "pygments_lexer": "ipython3",
   "version": "3.11.6"
  }
 },
 "nbformat": 4,
 "nbformat_minor": 5
}
